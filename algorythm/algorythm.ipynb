{
 "cells": [
  {
   "cell_type": "markdown",
   "metadata": {},
   "source": [
    "# Installing Dependencies"
   ]
  },
  {
   "cell_type": "code",
   "execution_count": 73,
   "metadata": {},
   "outputs": [
    {
     "name": "stdout",
     "output_type": "stream",
     "text": [
      "Requirement already satisfied: numpy in c:\\python311\\lib\\site-packages (1.26.2)\n"
     ]
    },
    {
     "name": "stderr",
     "output_type": "stream",
     "text": [
      "\n",
      "[notice] A new release of pip is available: 23.3.2 -> 24.0\n",
      "[notice] To update, run: python.exe -m pip install --upgrade pip\n"
     ]
    },
    {
     "name": "stdout",
     "output_type": "stream",
     "text": [
      "Requirement already satisfied: pandas in c:\\python311\\lib\\site-packages (2.1.3)\n",
      "Requirement already satisfied: numpy<2,>=1.23.2 in c:\\python311\\lib\\site-packages (from pandas) (1.26.2)\n",
      "Requirement already satisfied: python-dateutil>=2.8.2 in c:\\users\\danie\\appdata\\roaming\\python\\python311\\site-packages (from pandas) (2.8.2)\n",
      "Requirement already satisfied: pytz>=2020.1 in c:\\python311\\lib\\site-packages (from pandas) (2023.3.post1)\n",
      "Requirement already satisfied: tzdata>=2022.1 in c:\\python311\\lib\\site-packages (from pandas) (2023.3)\n",
      "Requirement already satisfied: six>=1.5 in c:\\users\\danie\\appdata\\roaming\\python\\python311\\site-packages (from python-dateutil>=2.8.2->pandas) (1.16.0)\n"
     ]
    },
    {
     "name": "stderr",
     "output_type": "stream",
     "text": [
      "\n",
      "[notice] A new release of pip is available: 23.3.2 -> 24.0\n",
      "[notice] To update, run: python.exe -m pip install --upgrade pip\n"
     ]
    },
    {
     "name": "stdout",
     "output_type": "stream",
     "text": [
      "Requirement already satisfied: matplotlib in c:\\python311\\lib\\site-packages (3.8.2)\n",
      "Requirement already satisfied: contourpy>=1.0.1 in c:\\python311\\lib\\site-packages (from matplotlib) (1.2.0)\n",
      "Requirement already satisfied: cycler>=0.10 in c:\\python311\\lib\\site-packages (from matplotlib) (0.12.1)\n",
      "Requirement already satisfied: fonttools>=4.22.0 in c:\\python311\\lib\\site-packages (from matplotlib) (4.46.0)\n",
      "Requirement already satisfied: kiwisolver>=1.3.1 in c:\\python311\\lib\\site-packages (from matplotlib) (1.4.5)\n",
      "Requirement already satisfied: numpy<2,>=1.21 in c:\\python311\\lib\\site-packages (from matplotlib) (1.26.2)\n",
      "Requirement already satisfied: packaging>=20.0 in c:\\users\\danie\\appdata\\roaming\\python\\python311\\site-packages (from matplotlib) (23.2)\n",
      "Requirement already satisfied: pillow>=8 in c:\\python311\\lib\\site-packages (from matplotlib) (10.1.0)\n",
      "Requirement already satisfied: pyparsing>=2.3.1 in c:\\python311\\lib\\site-packages (from matplotlib) (3.1.1)\n",
      "Requirement already satisfied: python-dateutil>=2.7 in c:\\users\\danie\\appdata\\roaming\\python\\python311\\site-packages (from matplotlib) (2.8.2)\n",
      "Requirement already satisfied: six>=1.5 in c:\\users\\danie\\appdata\\roaming\\python\\python311\\site-packages (from python-dateutil>=2.7->matplotlib) (1.16.0)\n"
     ]
    },
    {
     "name": "stderr",
     "output_type": "stream",
     "text": [
      "\n",
      "[notice] A new release of pip is available: 23.3.2 -> 24.0\n",
      "[notice] To update, run: python.exe -m pip install --upgrade pip\n"
     ]
    },
    {
     "name": "stdout",
     "output_type": "stream",
     "text": [
      "Requirement already satisfied: statsmodels in c:\\python311\\lib\\site-packages (0.14.0)\n",
      "Requirement already satisfied: numpy>=1.18 in c:\\python311\\lib\\site-packages (from statsmodels) (1.26.2)\n",
      "Requirement already satisfied: scipy!=1.9.2,>=1.4 in c:\\python311\\lib\\site-packages (from statsmodels) (1.11.4)\n",
      "Requirement already satisfied: pandas>=1.0 in c:\\python311\\lib\\site-packages (from statsmodels) (2.1.3)\n",
      "Requirement already satisfied: patsy>=0.5.2 in c:\\python311\\lib\\site-packages (from statsmodels) (0.5.4)\n",
      "Requirement already satisfied: packaging>=21.3 in c:\\users\\danie\\appdata\\roaming\\python\\python311\\site-packages (from statsmodels) (23.2)\n",
      "Requirement already satisfied: python-dateutil>=2.8.2 in c:\\users\\danie\\appdata\\roaming\\python\\python311\\site-packages (from pandas>=1.0->statsmodels) (2.8.2)\n",
      "Requirement already satisfied: pytz>=2020.1 in c:\\python311\\lib\\site-packages (from pandas>=1.0->statsmodels) (2023.3.post1)\n",
      "Requirement already satisfied: tzdata>=2022.1 in c:\\python311\\lib\\site-packages (from pandas>=1.0->statsmodels) (2023.3)\n",
      "Requirement already satisfied: six in c:\\users\\danie\\appdata\\roaming\\python\\python311\\site-packages (from patsy>=0.5.2->statsmodels) (1.16.0)\n"
     ]
    },
    {
     "name": "stderr",
     "output_type": "stream",
     "text": [
      "\n",
      "[notice] A new release of pip is available: 23.3.2 -> 24.0\n",
      "[notice] To update, run: python.exe -m pip install --upgrade pip\n"
     ]
    },
    {
     "name": "stdout",
     "output_type": "stream",
     "text": [
      "Requirement already satisfied: tqdm in c:\\python311\\lib\\site-packages (4.66.1)\n",
      "Requirement already satisfied: colorama in c:\\users\\danie\\appdata\\roaming\\python\\python311\\site-packages (from tqdm) (0.4.6)\n"
     ]
    },
    {
     "name": "stderr",
     "output_type": "stream",
     "text": [
      "\n",
      "[notice] A new release of pip is available: 23.3.2 -> 24.0\n",
      "[notice] To update, run: python.exe -m pip install --upgrade pip\n"
     ]
    },
    {
     "name": "stdout",
     "output_type": "stream",
     "text": [
      "Requirement already satisfied: geopy in c:\\python311\\lib\\site-packages (2.4.1)\n",
      "Requirement already satisfied: geographiclib<3,>=1.52 in c:\\python311\\lib\\site-packages (from geopy) (2.0)\n"
     ]
    },
    {
     "name": "stderr",
     "output_type": "stream",
     "text": [
      "\n",
      "[notice] A new release of pip is available: 23.3.2 -> 24.0\n",
      "[notice] To update, run: python.exe -m pip install --upgrade pip\n"
     ]
    }
   ],
   "source": [
    "import sys\n",
    "\n",
    "# Installing numpy\n",
    "!{sys.executable} -m pip install numpy\n",
    "\n",
    "# Installing pandas\n",
    "!{sys.executable} -m pip install pandas\n",
    "\n",
    "# Installing matplotlib\n",
    "!{sys.executable} -m pip install matplotlib\n",
    "\n",
    "# Installing statsmodels\n",
    "!{sys.executable} -m pip install statsmodels\n",
    "\n",
    "#Installing tqdm\n",
    "!{sys.executable} -m pip install tqdm\n",
    "\n",
    "#Installing Geopy\n",
    "!{sys.executable} -m pip install geopy"
   ]
  },
  {
   "cell_type": "markdown",
   "metadata": {},
   "source": [
    "# Imports"
   ]
  },
  {
   "cell_type": "code",
   "execution_count": 74,
   "metadata": {},
   "outputs": [],
   "source": [
    "# Import Statistic Libraries\n",
    "import numpy                    as np\n",
    "import pandas                   as pd\n",
    "import matplotlib.pyplot        as plt\n",
    "\n",
    "# Import Utility Libraries\n",
    "from typing                     import List, Dict, TypedDict\n",
    "from tqdm                       import tqdm\n",
    "from matplotlib.lines           import Line2D\n",
    "from geopy.geocoders            import Nominatim"
   ]
  },
  {
   "cell_type": "markdown",
   "metadata": {},
   "source": [
    "# Algorythm"
   ]
  },
  {
   "cell_type": "code",
   "execution_count": 75,
   "metadata": {},
   "outputs": [],
   "source": [
    "class UserRequest(TypedDict):\n",
    "    City: str\n",
    "    MinPrice: float\n",
    "    MaxPrice: float\n",
    "    MinSpace: float\n",
    "    MaxSpace: float\n",
    "    range: int"
   ]
  },
  {
   "cell_type": "code",
   "execution_count": 76,
   "metadata": {},
   "outputs": [],
   "source": [
    "users_df: pd.DataFrame = pd.read_csv('../data/users.csv')\n",
    "requests_df: pd.DataFrame  = pd.read_csv('../data/requests.csv')\n",
    "listings_df: pd.DataFrame  = pd.read_csv('../data/combined_data.csv',delimiter=\";\")\n",
    "\n",
    "listings_df['size'] = listings_df['size'].str.extract('(\\d+)').astype(int)\n",
    "listings_df['price'] = listings_df['price'].str.replace(',', '').astype(int)\n",
    "listings_df['street'] = listings_df['street'].str.rstrip(',')\n",
    "\n",
    "listings_df['start_date'] = listings_df['date'].str.extract(r'(?:From (\\d+ [a-zA-Z]+ \\d+))|(\\d+ [a-zA-Z]+ \\d+) -').bfill(axis=1).iloc[:, 0]\n",
    "listings_df['end_date'] = listings_df['date'].str.extract(r' - (\\d+ [a-zA-Z]+ \\d+)').bfill(axis=1).iloc[:, 0]\n",
    "\n",
    "listings_df['furnishing'] = listings_df['furnishing'].map({\"unfurnished\": False, \"furnished\": True})\n",
    "\n",
    "listings_df['start_date'] = pd.to_datetime(listings_df['start_date'], errors='coerce', format='%d %b %Y')\n",
    "listings_df['end_date'] = pd.to_datetime(listings_df['end_date'], errors='coerce', format='%d %b %Y')\n",
    "listings_df = listings_df.drop('date', axis=1)\n",
    "\n",
    "geolocator = Nominatim(user_agent=\"geo_locator\")\n",
    "\n",
    "def get_coordinates(row):\n",
    "    location = geolocator.geocode(f\"{row['street']}, {row['city']}\")\n",
    "    if location:\n",
    "        return location.latitude, location.longitude\n",
    "    else:\n",
    "        return None, None\n",
    "    \n",
    "listings_df[['latitude', 'longitude']] = listings_df.apply(get_coordinates, axis=1, result_type='expand')"
   ]
  },
  {
   "cell_type": "code",
   "execution_count": 81,
   "metadata": {},
   "outputs": [
    {
     "data": {
      "text/html": [
       "<div>\n",
       "<style scoped>\n",
       "    .dataframe tbody tr th:only-of-type {\n",
       "        vertical-align: middle;\n",
       "    }\n",
       "\n",
       "    .dataframe tbody tr th {\n",
       "        vertical-align: top;\n",
       "    }\n",
       "\n",
       "    .dataframe thead th {\n",
       "        text-align: right;\n",
       "    }\n",
       "</style>\n",
       "<table border=\"1\" class=\"dataframe\">\n",
       "  <thead>\n",
       "    <tr style=\"text-align: right;\">\n",
       "      <th></th>\n",
       "      <th>street</th>\n",
       "      <th>city</th>\n",
       "      <th>size</th>\n",
       "      <th>furnishing</th>\n",
       "      <th>type</th>\n",
       "      <th>utilities</th>\n",
       "      <th>price</th>\n",
       "      <th>url</th>\n",
       "      <th>start_date</th>\n",
       "      <th>end_date</th>\n",
       "      <th>latitude</th>\n",
       "      <th>longitude</th>\n",
       "    </tr>\n",
       "  </thead>\n",
       "  <tbody>\n",
       "    <tr>\n",
       "      <th>0</th>\n",
       "      <td>Galjoenstraat</td>\n",
       "      <td>Zaandam</td>\n",
       "      <td>16</td>\n",
       "      <td>True</td>\n",
       "      <td>Roomin a studenthouse</td>\n",
       "      <td>month</td>\n",
       "      <td>800</td>\n",
       "      <td>https://kamernet.nl/en/for-rent/room-zaandam/g...</td>\n",
       "      <td>2024-03-03</td>\n",
       "      <td>NaT</td>\n",
       "      <td>52.442913</td>\n",
       "      <td>4.845643</td>\n",
       "    </tr>\n",
       "    <tr>\n",
       "      <th>1</th>\n",
       "      <td>Stoofsteeg</td>\n",
       "      <td>Gouda</td>\n",
       "      <td>58</td>\n",
       "      <td>False</td>\n",
       "      <td>Apartment</td>\n",
       "      <td>month</td>\n",
       "      <td>1325</td>\n",
       "      <td>https://kamernet.nl/en/for-rent/apartment-goud...</td>\n",
       "      <td>2024-04-01</td>\n",
       "      <td>NaT</td>\n",
       "      <td>52.011768</td>\n",
       "      <td>4.711833</td>\n",
       "    </tr>\n",
       "    <tr>\n",
       "      <th>2</th>\n",
       "      <td>Beeklaan</td>\n",
       "      <td>Den Haag</td>\n",
       "      <td>17</td>\n",
       "      <td>True</td>\n",
       "      <td>Studio</td>\n",
       "      <td>month</td>\n",
       "      <td>725</td>\n",
       "      <td>https://kamernet.nl/en/for-rent/studio-den-haa...</td>\n",
       "      <td>2024-03-03</td>\n",
       "      <td>2026-03-01</td>\n",
       "      <td>52.074345</td>\n",
       "      <td>4.281000</td>\n",
       "    </tr>\n",
       "    <tr>\n",
       "      <th>3</th>\n",
       "      <td>Fuutlaan</td>\n",
       "      <td>Eindhoven</td>\n",
       "      <td>16</td>\n",
       "      <td>False</td>\n",
       "      <td>Room</td>\n",
       "      <td>month incl. utilities</td>\n",
       "      <td>295</td>\n",
       "      <td>https://kamernet.nl/en/for-rent/room-eindhoven...</td>\n",
       "      <td>2024-02-16</td>\n",
       "      <td>NaT</td>\n",
       "      <td>51.444204</td>\n",
       "      <td>5.501434</td>\n",
       "    </tr>\n",
       "    <tr>\n",
       "      <th>4</th>\n",
       "      <td>Meidoornsingel</td>\n",
       "      <td>Rotterdam</td>\n",
       "      <td>20</td>\n",
       "      <td>True</td>\n",
       "      <td>Room</td>\n",
       "      <td>month incl. utilities</td>\n",
       "      <td>925</td>\n",
       "      <td>https://kamernet.nl/en/for-rent/room-rotterdam...</td>\n",
       "      <td>2024-09-01</td>\n",
       "      <td>2025-03-01</td>\n",
       "      <td>51.953156</td>\n",
       "      <td>4.464757</td>\n",
       "    </tr>\n",
       "  </tbody>\n",
       "</table>\n",
       "</div>"
      ],
      "text/plain": [
       "           street       city  size  furnishing                   type  \\\n",
       "0   Galjoenstraat    Zaandam    16        True  Roomin a studenthouse   \n",
       "1      Stoofsteeg      Gouda    58       False              Apartment   \n",
       "2        Beeklaan   Den Haag    17        True                 Studio   \n",
       "3        Fuutlaan  Eindhoven    16       False                   Room   \n",
       "4  Meidoornsingel  Rotterdam    20        True                   Room   \n",
       "\n",
       "               utilities  price  \\\n",
       "0                  month    800   \n",
       "1                  month   1325   \n",
       "2                  month    725   \n",
       "3  month incl. utilities    295   \n",
       "4  month incl. utilities    925   \n",
       "\n",
       "                                                 url start_date   end_date  \\\n",
       "0  https://kamernet.nl/en/for-rent/room-zaandam/g... 2024-03-03        NaT   \n",
       "1  https://kamernet.nl/en/for-rent/apartment-goud... 2024-04-01        NaT   \n",
       "2  https://kamernet.nl/en/for-rent/studio-den-haa... 2024-03-03 2026-03-01   \n",
       "3  https://kamernet.nl/en/for-rent/room-eindhoven... 2024-02-16        NaT   \n",
       "4  https://kamernet.nl/en/for-rent/room-rotterdam... 2024-09-01 2025-03-01   \n",
       "\n",
       "    latitude  longitude  \n",
       "0  52.442913   4.845643  \n",
       "1  52.011768   4.711833  \n",
       "2  52.074345   4.281000  \n",
       "3  51.444204   5.501434  \n",
       "4  51.953156   4.464757  "
      ]
     },
     "execution_count": 81,
     "metadata": {},
     "output_type": "execute_result"
    }
   ],
   "source": [
    "listings_df.head()"
   ]
  },
  {
   "cell_type": "code",
   "execution_count": 103,
   "metadata": {},
   "outputs": [],
   "source": [
    "def haversine_distance(lat1, lon1, lat2, lon2):\n",
    "    R = 6371  \n",
    "\n",
    "    dlat = np.radians(lat2 - lat1)\n",
    "    dlon = np.radians(lon2 - lon1)\n",
    "\n",
    "    a = np.sin(dlat / 2) ** 2 + np.cos(np.radians(lat1)) * np.cos(np.radians(lat2)) * np.sin(dlon / 2) ** 2\n",
    "    c = 2 * np.arctan2(np.sqrt(a), np.sqrt(1 - a))\n",
    "\n",
    "    distance = R * c\n",
    "    return distance\n",
    "\n",
    "def match_listings(user_request: pd.DataFrame, listings_df: pd.DataFrame):\n",
    "    geolocator = Nominatim(user_agent=\"geo_locator\")\n",
    "\n",
    "    location = geolocator.geocode(user_request['city'])\n",
    "    user_latitude, user_longitude = location.latitude, location.longitude\n",
    "\n",
    "    matching_df = listings_df[\n",
    "        (listings_df['furnishing']==user_request[\"furnishing\"] if not pd.isna(user_request['furnishing']) else True) &\n",
    "        ((listings_df[\"city\"] == user_request[\"city\"])\n",
    "            | (haversine_distance(user_latitude, user_longitude, listings_df[\"latitude\"], listings_df[\"longitude\"]) < user_request[\"range\"])) &\n",
    "        (listings_df['price'] >= user_request['MinPrice'] if not pd.isna(user_request['MinPrice']) else True) &\n",
    "        (listings_df['price'] <= user_request['MaxPrice'] if not pd.isna(user_request['MaxPrice']) else True) &\n",
    "        (listings_df['size'] >= user_request['MinSpace'] if not pd.isna(user_request['MinSpace']) else True) &\n",
    "        (listings_df['size'] <= user_request['MaxSpace']if not pd.isna(user_request['MaxSpace']) else True)\n",
    "    ].copy()  \n",
    "\n",
    "    matching_df['distance'] = matching_df.apply(lambda row: haversine_distance(user_latitude, user_longitude, row['latitude'], row['longitude']), axis=1)\n",
    "\n",
    "    return matching_df\n",
    "\n",
    "def rank_listings(matching_results):\n",
    "    max_normalized_price = matching_results['price'].max() / matching_results['size'].max()\n",
    "    max_distance = matching_results['distance'].max()\n",
    "    max_regular_price = matching_results['price'].max()\n",
    "\n",
    "    matching_results['normalized_price'] = (matching_results['price'] / matching_results['size']) / max_normalized_price\n",
    "    matching_results['normalized_distance'] = matching_results['distance'] / max_distance\n",
    "    matching_results['normalized_regular_price'] = matching_results['price'] / max_regular_price\n",
    "\n",
    "    weight_price_per_m2 = 0.1\n",
    "    weight_distance = 0.7\n",
    "    weight_regular_price = 0.2\n",
    "    \n",
    "    matching_results['ranking_score'] = (\n",
    "        (1 / matching_results['normalized_price']) * weight_price_per_m2 +\n",
    "        (1 / (1 + matching_results['normalized_distance'])) * weight_distance +\n",
    "        (1 / matching_results['normalized_regular_price']) * weight_regular_price\n",
    "    )\n",
    "\n",
    "    ranked_results = matching_results.sort_values(by='ranking_score', ascending=False)\n",
    "    ranked_results = ranked_results.reset_index(drop=True)\n",
    "    \n",
    "    return ranked_results"
   ]
  },
  {
   "cell_type": "code",
   "execution_count": 107,
   "metadata": {},
   "outputs": [
    {
     "name": "stdout",
     "output_type": "stream",
     "text": [
      "{'city': 'Rotterdam', 'MinPrice': 900.0, 'MaxPrice': nan, 'MinSpace': 9, 'MaxSpace': nan, 'range': 40, 'furnishing': nan, 'email': 'paarth@paarth.com'}\n",
      "8\n"
     ]
    }
   ],
   "source": [
    "user_request: UserRequest = requests_df.iloc[3].to_dict()\n",
    "print(user_request)\n",
    "matching_results = match_listings(user_request, listings_df)\n",
    "ranked_results = rank_listings(matching_results)\n",
    "print(len(ranked_results))"
   ]
  },
  {
   "cell_type": "code",
   "execution_count": 108,
   "metadata": {},
   "outputs": [
    {
     "data": {
      "text/html": [
       "<div>\n",
       "<style scoped>\n",
       "    .dataframe tbody tr th:only-of-type {\n",
       "        vertical-align: middle;\n",
       "    }\n",
       "\n",
       "    .dataframe tbody tr th {\n",
       "        vertical-align: top;\n",
       "    }\n",
       "\n",
       "    .dataframe thead th {\n",
       "        text-align: right;\n",
       "    }\n",
       "</style>\n",
       "<table border=\"1\" class=\"dataframe\">\n",
       "  <thead>\n",
       "    <tr style=\"text-align: right;\">\n",
       "      <th></th>\n",
       "      <th>street</th>\n",
       "      <th>city</th>\n",
       "      <th>size</th>\n",
       "      <th>furnishing</th>\n",
       "      <th>type</th>\n",
       "      <th>price</th>\n",
       "      <th>distance</th>\n",
       "      <th>url</th>\n",
       "    </tr>\n",
       "  </thead>\n",
       "  <tbody>\n",
       "    <tr>\n",
       "      <th>0</th>\n",
       "      <td>Graaf Balderikstraat</td>\n",
       "      <td>Rotterdam</td>\n",
       "      <td>28</td>\n",
       "      <td>False</td>\n",
       "      <td>Room</td>\n",
       "      <td>1000</td>\n",
       "      <td>0.398339</td>\n",
       "      <td>https://kamernet.nl/en/for-rent/room-rotterdam...</td>\n",
       "    </tr>\n",
       "    <tr>\n",
       "      <th>1</th>\n",
       "      <td>Spijkenissestraat</td>\n",
       "      <td>Rotterdam</td>\n",
       "      <td>65</td>\n",
       "      <td>True</td>\n",
       "      <td>Apartment</td>\n",
       "      <td>1100</td>\n",
       "      <td>3.430172</td>\n",
       "      <td>https://kamernet.nl/en/for-rent/apartment-rott...</td>\n",
       "    </tr>\n",
       "    <tr>\n",
       "      <th>2</th>\n",
       "      <td>Meidoornsingel</td>\n",
       "      <td>Rotterdam</td>\n",
       "      <td>20</td>\n",
       "      <td>True</td>\n",
       "      <td>Room</td>\n",
       "      <td>925</td>\n",
       "      <td>3.314682</td>\n",
       "      <td>https://kamernet.nl/en/for-rent/room-rotterdam...</td>\n",
       "    </tr>\n",
       "    <tr>\n",
       "      <th>3</th>\n",
       "      <td>Pleinweg</td>\n",
       "      <td>Rotterdam</td>\n",
       "      <td>85</td>\n",
       "      <td>True</td>\n",
       "      <td>Apartment</td>\n",
       "      <td>1300</td>\n",
       "      <td>3.638020</td>\n",
       "      <td>https://kamernet.nl/en/for-rent/apartment-rott...</td>\n",
       "    </tr>\n",
       "    <tr>\n",
       "      <th>4</th>\n",
       "      <td>Broersvest</td>\n",
       "      <td>Schiedam</td>\n",
       "      <td>40</td>\n",
       "      <td>True</td>\n",
       "      <td>Room</td>\n",
       "      <td>1000</td>\n",
       "      <td>5.263102</td>\n",
       "      <td>https://kamernet.nl/en/for-rent/room-schiedam/...</td>\n",
       "    </tr>\n",
       "    <tr>\n",
       "      <th>5</th>\n",
       "      <td>Admiraal de Ruyterweg</td>\n",
       "      <td>Rotterdam</td>\n",
       "      <td>61</td>\n",
       "      <td>True</td>\n",
       "      <td>Apartment</td>\n",
       "      <td>1800</td>\n",
       "      <td>0.662953</td>\n",
       "      <td>https://kamernet.nl/en/for-rent/apartment-rott...</td>\n",
       "    </tr>\n",
       "    <tr>\n",
       "      <th>6</th>\n",
       "      <td>Maaslandse Dam</td>\n",
       "      <td>Maasland</td>\n",
       "      <td>90</td>\n",
       "      <td>True</td>\n",
       "      <td>Apartment</td>\n",
       "      <td>1250</td>\n",
       "      <td>13.806962</td>\n",
       "      <td>https://kamernet.nl/en/for-rent/apartment-maas...</td>\n",
       "    </tr>\n",
       "    <tr>\n",
       "      <th>7</th>\n",
       "      <td>Stoofsteeg</td>\n",
       "      <td>Gouda</td>\n",
       "      <td>58</td>\n",
       "      <td>False</td>\n",
       "      <td>Apartment</td>\n",
       "      <td>1325</td>\n",
       "      <td>18.747017</td>\n",
       "      <td>https://kamernet.nl/en/for-rent/apartment-goud...</td>\n",
       "    </tr>\n",
       "  </tbody>\n",
       "</table>\n",
       "</div>"
      ],
      "text/plain": [
       "                  street       city  size  furnishing       type  price  \\\n",
       "0   Graaf Balderikstraat  Rotterdam    28       False       Room   1000   \n",
       "1      Spijkenissestraat  Rotterdam    65        True  Apartment   1100   \n",
       "2         Meidoornsingel  Rotterdam    20        True       Room    925   \n",
       "3               Pleinweg  Rotterdam    85        True  Apartment   1300   \n",
       "4             Broersvest   Schiedam    40        True       Room   1000   \n",
       "5  Admiraal de Ruyterweg  Rotterdam    61        True  Apartment   1800   \n",
       "6         Maaslandse Dam   Maasland    90        True  Apartment   1250   \n",
       "7             Stoofsteeg      Gouda    58       False  Apartment   1325   \n",
       "\n",
       "    distance                                                url  \n",
       "0   0.398339  https://kamernet.nl/en/for-rent/room-rotterdam...  \n",
       "1   3.430172  https://kamernet.nl/en/for-rent/apartment-rott...  \n",
       "2   3.314682  https://kamernet.nl/en/for-rent/room-rotterdam...  \n",
       "3   3.638020  https://kamernet.nl/en/for-rent/apartment-rott...  \n",
       "4   5.263102  https://kamernet.nl/en/for-rent/room-schiedam/...  \n",
       "5   0.662953  https://kamernet.nl/en/for-rent/apartment-rott...  \n",
       "6  13.806962  https://kamernet.nl/en/for-rent/apartment-maas...  \n",
       "7  18.747017  https://kamernet.nl/en/for-rent/apartment-goud...  "
      ]
     },
     "execution_count": 108,
     "metadata": {},
     "output_type": "execute_result"
    }
   ],
   "source": [
    "ranked_results[['street','city','size','furnishing','type','price','distance','url']]"
   ]
  }
 ],
 "metadata": {
  "kernelspec": {
   "display_name": "Python 3",
   "language": "python",
   "name": "python3"
  },
  "language_info": {
   "codemirror_mode": {
    "name": "ipython",
    "version": 3
   },
   "file_extension": ".py",
   "mimetype": "text/x-python",
   "name": "python",
   "nbconvert_exporter": "python",
   "pygments_lexer": "ipython3",
   "version": "3.11.2"
  }
 },
 "nbformat": 4,
 "nbformat_minor": 2
}
