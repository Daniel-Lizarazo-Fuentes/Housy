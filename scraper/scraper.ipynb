{
 "cells": [
  {
   "cell_type": "markdown",
   "metadata": {},
   "source": [
    "# Installing Dependencies"
   ]
  },
  {
   "cell_type": "code",
   "execution_count": 135,
   "metadata": {},
   "outputs": [
    {
     "name": "stdout",
     "output_type": "stream",
     "text": [
      "Requirement already satisfied: numpy in c:\\python312\\lib\\site-packages (1.26.0)\n"
     ]
    },
    {
     "name": "stderr",
     "output_type": "stream",
     "text": [
      "\n",
      "[notice] A new release of pip is available: 23.2.1 -> 24.0\n",
      "[notice] To update, run: python.exe -m pip install --upgrade pip\n"
     ]
    },
    {
     "name": "stdout",
     "output_type": "stream",
     "text": [
      "Requirement already satisfied: pandas in c:\\python312\\lib\\site-packages (2.1.1)\n",
      "Requirement already satisfied: numpy>=1.26.0 in c:\\python312\\lib\\site-packages (from pandas) (1.26.0)\n",
      "Requirement already satisfied: python-dateutil>=2.8.2 in c:\\users\\pc\\appdata\\roaming\\python\\python312\\site-packages (from pandas) (2.8.2)\n",
      "Requirement already satisfied: pytz>=2020.1 in c:\\python312\\lib\\site-packages (from pandas) (2023.3.post1)\n",
      "Requirement already satisfied: tzdata>=2022.1 in c:\\python312\\lib\\site-packages (from pandas) (2023.3)\n",
      "Requirement already satisfied: six>=1.5 in c:\\users\\pc\\appdata\\roaming\\python\\python312\\site-packages (from python-dateutil>=2.8.2->pandas) (1.16.0)\n"
     ]
    },
    {
     "name": "stderr",
     "output_type": "stream",
     "text": [
      "\n",
      "[notice] A new release of pip is available: 23.2.1 -> 24.0\n",
      "[notice] To update, run: python.exe -m pip install --upgrade pip\n"
     ]
    },
    {
     "name": "stdout",
     "output_type": "stream",
     "text": [
      "Requirement already satisfied: matplotlib in c:\\python312\\lib\\site-packages (3.8.0)\n",
      "Requirement already satisfied: contourpy>=1.0.1 in c:\\python312\\lib\\site-packages (from matplotlib) (1.1.1)\n",
      "Requirement already satisfied: cycler>=0.10 in c:\\python312\\lib\\site-packages (from matplotlib) (0.12.1)\n",
      "Requirement already satisfied: fonttools>=4.22.0 in c:\\python312\\lib\\site-packages (from matplotlib) (4.43.1)\n",
      "Requirement already satisfied: kiwisolver>=1.0.1 in c:\\python312\\lib\\site-packages (from matplotlib) (1.4.5)\n",
      "Requirement already satisfied: numpy<2,>=1.21 in c:\\python312\\lib\\site-packages (from matplotlib) (1.26.0)\n",
      "Requirement already satisfied: packaging>=20.0 in c:\\users\\pc\\appdata\\roaming\\python\\python312\\site-packages (from matplotlib) (23.2)\n",
      "Requirement already satisfied: pillow>=6.2.0 in c:\\python312\\lib\\site-packages (from matplotlib) (10.0.1)\n",
      "Requirement already satisfied: pyparsing>=2.3.1 in c:\\python312\\lib\\site-packages (from matplotlib) (3.1.1)\n",
      "Requirement already satisfied: python-dateutil>=2.7 in c:\\users\\pc\\appdata\\roaming\\python\\python312\\site-packages (from matplotlib) (2.8.2)\n",
      "Requirement already satisfied: six>=1.5 in c:\\users\\pc\\appdata\\roaming\\python\\python312\\site-packages (from python-dateutil>=2.7->matplotlib) (1.16.0)\n"
     ]
    },
    {
     "name": "stderr",
     "output_type": "stream",
     "text": [
      "\n",
      "[notice] A new release of pip is available: 23.2.1 -> 24.0\n",
      "[notice] To update, run: python.exe -m pip install --upgrade pip\n"
     ]
    },
    {
     "name": "stdout",
     "output_type": "stream",
     "text": [
      "Requirement already satisfied: statsmodels in c:\\python312\\lib\\site-packages (0.14.1)\n",
      "Requirement already satisfied: numpy<2,>=1.18 in c:\\python312\\lib\\site-packages (from statsmodels) (1.26.0)\n",
      "Requirement already satisfied: scipy!=1.9.2,>=1.4 in c:\\python312\\lib\\site-packages (from statsmodels) (1.12.0)\n",
      "Requirement already satisfied: pandas!=2.1.0,>=1.0 in c:\\python312\\lib\\site-packages (from statsmodels) (2.1.1)\n",
      "Requirement already satisfied: patsy>=0.5.4 in c:\\python312\\lib\\site-packages (from statsmodels) (0.5.6)\n",
      "Requirement already satisfied: packaging>=21.3 in c:\\users\\pc\\appdata\\roaming\\python\\python312\\site-packages (from statsmodels) (23.2)\n",
      "Requirement already satisfied: python-dateutil>=2.8.2 in c:\\users\\pc\\appdata\\roaming\\python\\python312\\site-packages (from pandas!=2.1.0,>=1.0->statsmodels) (2.8.2)\n",
      "Requirement already satisfied: pytz>=2020.1 in c:\\python312\\lib\\site-packages (from pandas!=2.1.0,>=1.0->statsmodels) (2023.3.post1)\n",
      "Requirement already satisfied: tzdata>=2022.1 in c:\\python312\\lib\\site-packages (from pandas!=2.1.0,>=1.0->statsmodels) (2023.3)\n",
      "Requirement already satisfied: six in c:\\users\\pc\\appdata\\roaming\\python\\python312\\site-packages (from patsy>=0.5.4->statsmodels) (1.16.0)\n"
     ]
    },
    {
     "name": "stderr",
     "output_type": "stream",
     "text": [
      "\n",
      "[notice] A new release of pip is available: 23.2.1 -> 24.0\n",
      "[notice] To update, run: python.exe -m pip install --upgrade pip\n"
     ]
    },
    {
     "name": "stdout",
     "output_type": "stream",
     "text": [
      "Requirement already satisfied: tqdm in c:\\python312\\lib\\site-packages (4.66.1)\n",
      "Requirement already satisfied: colorama in c:\\users\\pc\\appdata\\roaming\\python\\python312\\site-packages (from tqdm) (0.4.6)\n"
     ]
    },
    {
     "name": "stderr",
     "output_type": "stream",
     "text": [
      "\n",
      "[notice] A new release of pip is available: 23.2.1 -> 24.0\n",
      "[notice] To update, run: python.exe -m pip install --upgrade pip\n"
     ]
    },
    {
     "name": "stdout",
     "output_type": "stream",
     "text": [
      "Requirement already satisfied: requests in c:\\python312\\lib\\site-packages (2.31.0)\n",
      "Requirement already satisfied: charset-normalizer<4,>=2 in c:\\python312\\lib\\site-packages (from requests) (3.3.2)\n",
      "Requirement already satisfied: idna<4,>=2.5 in c:\\python312\\lib\\site-packages (from requests) (3.6)\n",
      "Requirement already satisfied: urllib3<3,>=1.21.1 in c:\\python312\\lib\\site-packages (from requests) (2.2.1)\n",
      "Requirement already satisfied: certifi>=2017.4.17 in c:\\python312\\lib\\site-packages (from requests) (2024.2.2)\n"
     ]
    },
    {
     "name": "stderr",
     "output_type": "stream",
     "text": [
      "\n",
      "[notice] A new release of pip is available: 23.2.1 -> 24.0\n",
      "[notice] To update, run: python.exe -m pip install --upgrade pip\n"
     ]
    },
    {
     "name": "stdout",
     "output_type": "stream",
     "text": [
      "Requirement already satisfied: beautifulsoup4 in c:\\python312\\lib\\site-packages (4.12.3)\n",
      "Requirement already satisfied: soupsieve>1.2 in c:\\python312\\lib\\site-packages (from beautifulsoup4) (2.5)\n"
     ]
    },
    {
     "name": "stderr",
     "output_type": "stream",
     "text": [
      "\n",
      "[notice] A new release of pip is available: 23.2.1 -> 24.0\n",
      "[notice] To update, run: python.exe -m pip install --upgrade pip\n"
     ]
    }
   ],
   "source": [
    "import sys\n",
    "\n",
    "# Installing numpy\n",
    "!{sys.executable} -m pip install numpy\n",
    "\n",
    "# Installing pandas\n",
    "!{sys.executable} -m pip install pandas\n",
    "\n",
    "# Installing matplotlib\n",
    "!{sys.executable} -m pip install matplotlib\n",
    "\n",
    "# Installing statsmodels\n",
    "!{sys.executable} -m pip install statsmodels\n",
    "\n",
    "# Installing tqdm\n",
    "!{sys.executable} -m pip install tqdm\n",
    "\n",
    "# Installing requests\n",
    "!{sys.executable} -m pip install requests\n",
    "\n",
    "# Installing beautiful soup\n",
    "!{sys.executable} -m pip install beautifulsoup4"
   ]
  },
  {
   "cell_type": "markdown",
   "metadata": {},
   "source": [
    "# Imports"
   ]
  },
  {
   "cell_type": "code",
   "execution_count": 136,
   "metadata": {},
   "outputs": [],
   "source": [
    "# Import Statistic Libraries\n",
    "import re\n",
    "import requests\n",
    "\n",
    "import numpy                    as np\n",
    "import pandas                   as pd\n",
    "import matplotlib.pyplot        as plt\n",
    "\n",
    "# Import Utility Libraries\n",
    "from typing                     import List, Dict\n",
    "from tqdm                       import tqdm\n",
    "from matplotlib.lines           import Line2D\n",
    "from bs4                        import BeautifulSoup"
   ]
  },
  {
   "cell_type": "markdown",
   "metadata": {},
   "source": [
    "# Utility functions"
   ]
  },
  {
   "cell_type": "code",
   "execution_count": 148,
   "metadata": {},
   "outputs": [],
   "source": [
    "def get_page(number_of_page: int ) -> pd.DataFrame:\n",
    "    page_url : str = f\"https://kamernet.nl/en/for-rent/rooms-netherlands?radius=5&minSize=&maxRent=&searchview=1&typeAndCity=rooms-netherlands&pageNo={number_of_page}\"\n",
    "\n",
    "    page_response = requests.get(url= page_url)\n",
    "    soup = BeautifulSoup(page_response.content, 'html.parser')\n",
    "    listings = soup.find_all(\"a\", { \"class\" : \"MuiCard-root\"})\n",
    "    listing_dictionary : Dict[str : list] = {\n",
    "        \"street\" : [],\n",
    "        \"city\" : [],\n",
    "        \"size\" : [],\n",
    "        \"furnishing\" : [],\n",
    "        \"type\" : [],\n",
    "        \"date\" : [],\n",
    "        \"utilities\": [],\n",
    "        \"price\": [],\n",
    "        \"url\": []\n",
    "    }\n",
    "\n",
    "    for listing in listings:\n",
    "        locations = listing.findChildren(\"h6\" , recursive=True)\n",
    "        data_utilities = listing.findChildren(\"p\", recursive=True)\n",
    "        price = listing.findChild(\"h5\", recursive = True)\n",
    "\n",
    "\n",
    "        listing_street = locations[0].text\n",
    "        listing_city = locations[1].text\n",
    "\n",
    "        listing_size = 0\n",
    "        listing_furnishing = \"\"\n",
    "        listing_type = \"\"\n",
    "        listing_date = \"\"\n",
    "        listing_utilities = \"\"\n",
    "        listing_price = 0\n",
    "\n",
    "        if( len(data_utilities) == 5):\n",
    "            listing_size = data_utilities[0].text\n",
    "            listing_furnishing = data_utilities[1].text\n",
    "            listing_type = data_utilities[2].text.replace(\",\", \" \")\n",
    "            listing_date = data_utilities[3].text\n",
    "            listing_utilities = data_utilities[4].text\n",
    "            listing_price = price.text\n",
    "\n",
    "        if( len(data_utilities) ==  6):\n",
    "            listing_size = data_utilities[0].text\n",
    "            listing_furnishing = data_utilities[1].text\n",
    "            listing_type = data_utilities[2].text.replace(\",\", \" \") + data_utilities[3].text\n",
    "            listing_date = data_utilities[4].text\n",
    "            listing_utilities = data_utilities[5].text\n",
    "            listing_price = price.text\n",
    "\n",
    "        listing_dictionary['street'].append(listing_street)\n",
    "        listing_dictionary['city'].append(listing_city)\n",
    "        listing_dictionary['size'].append(listing_size)\n",
    "        listing_dictionary['furnishing'].append(listing_furnishing)\n",
    "        listing_dictionary['type'].append(listing_type)\n",
    "        listing_dictionary['date'].append(listing_date)\n",
    "        listing_dictionary['utilities'].append(listing_utilities[1:])\n",
    "        listing_dictionary['price'].append(listing_price[1:])\n",
    "        listing_dictionary['url'].append(f'https://kamernet.nl{listing.get('href')}')\n",
    "\n",
    "    return pd.DataFrame(listing_dictionary)\n"
   ]
  },
  {
   "cell_type": "markdown",
   "metadata": {},
   "source": [
    "# Scrapring\n"
   ]
  },
  {
   "cell_type": "code",
   "execution_count": 149,
   "metadata": {},
   "outputs": [
    {
     "name": "stderr",
     "output_type": "stream",
     "text": [
      "Processing: 100%|██████████| 40/40 [01:25<00:00,  2.13s/it]\n"
     ]
    }
   ],
   "source": [
    "page_list : List[pd.DataFrame] = []\n",
    "\n",
    "for i in tqdm(range(2, 42), desc=\"Processing\"):\n",
    "\n",
    "    page_list.append(get_page(i))\n",
    "\n",
    "combined_df = pd.concat(page_list, ignore_index=True)\n",
    "\n",
    "output_file = \"../data/combined_data.csv\"\n",
    "combined_df.to_csv(output_file, index=False, sep=';')"
   ]
  },
  {
   "cell_type": "code",
   "execution_count": 150,
   "metadata": {},
   "outputs": [
    {
     "data": {
      "text/html": [
       "<div>\n",
       "<style scoped>\n",
       "    .dataframe tbody tr th:only-of-type {\n",
       "        vertical-align: middle;\n",
       "    }\n",
       "\n",
       "    .dataframe tbody tr th {\n",
       "        vertical-align: top;\n",
       "    }\n",
       "\n",
       "    .dataframe thead th {\n",
       "        text-align: right;\n",
       "    }\n",
       "</style>\n",
       "<table border=\"1\" class=\"dataframe\">\n",
       "  <thead>\n",
       "    <tr style=\"text-align: right;\">\n",
       "      <th></th>\n",
       "      <th>street</th>\n",
       "      <th>city</th>\n",
       "      <th>size</th>\n",
       "      <th>furnishing</th>\n",
       "      <th>type</th>\n",
       "      <th>date</th>\n",
       "      <th>utilities</th>\n",
       "      <th>price</th>\n",
       "      <th>url</th>\n",
       "    </tr>\n",
       "  </thead>\n",
       "  <tbody>\n",
       "    <tr>\n",
       "      <th>0</th>\n",
       "      <td>Galjoenstraat,</td>\n",
       "      <td>Zaandam</td>\n",
       "      <td>16 m²</td>\n",
       "      <td>furnished</td>\n",
       "      <td>Roomin a studenthouse</td>\n",
       "      <td>From 3 Mar 2024</td>\n",
       "      <td>month</td>\n",
       "      <td>800</td>\n",
       "      <td>https://kamernet.nl/en/for-rent/room-zaandam/g...</td>\n",
       "    </tr>\n",
       "    <tr>\n",
       "      <th>1</th>\n",
       "      <td>Stoofsteeg,</td>\n",
       "      <td>Gouda</td>\n",
       "      <td>58 m²</td>\n",
       "      <td>unfurnished</td>\n",
       "      <td>Apartment</td>\n",
       "      <td>From 1 Apr 2024</td>\n",
       "      <td>month</td>\n",
       "      <td>1,325</td>\n",
       "      <td>https://kamernet.nl/en/for-rent/apartment-goud...</td>\n",
       "    </tr>\n",
       "    <tr>\n",
       "      <th>2</th>\n",
       "      <td>Beeklaan,</td>\n",
       "      <td>Den Haag</td>\n",
       "      <td>17 m²</td>\n",
       "      <td>furnished</td>\n",
       "      <td>Studio</td>\n",
       "      <td>3 Mar 2024 - 1 Mar 2026</td>\n",
       "      <td>month</td>\n",
       "      <td>725</td>\n",
       "      <td>https://kamernet.nl/en/for-rent/studio-den-haa...</td>\n",
       "    </tr>\n",
       "    <tr>\n",
       "      <th>3</th>\n",
       "      <td>Fuutlaan,</td>\n",
       "      <td>Eindhoven</td>\n",
       "      <td>16 m²</td>\n",
       "      <td>unfurnished</td>\n",
       "      <td>Room</td>\n",
       "      <td>From 16 Feb 2024</td>\n",
       "      <td>month incl. utilities</td>\n",
       "      <td>295</td>\n",
       "      <td>https://kamernet.nl/en/for-rent/room-eindhoven...</td>\n",
       "    </tr>\n",
       "    <tr>\n",
       "      <th>4</th>\n",
       "      <td>Meidoornsingel,</td>\n",
       "      <td>Rotterdam</td>\n",
       "      <td>20 m²</td>\n",
       "      <td>furnished</td>\n",
       "      <td>Room</td>\n",
       "      <td>1 Sep 2024 - 1 Mar 2025</td>\n",
       "      <td>month incl. utilities</td>\n",
       "      <td>925</td>\n",
       "      <td>https://kamernet.nl/en/for-rent/room-rotterdam...</td>\n",
       "    </tr>\n",
       "    <tr>\n",
       "      <th>...</th>\n",
       "      <td>...</td>\n",
       "      <td>...</td>\n",
       "      <td>...</td>\n",
       "      <td>...</td>\n",
       "      <td>...</td>\n",
       "      <td>...</td>\n",
       "      <td>...</td>\n",
       "      <td>...</td>\n",
       "      <td>...</td>\n",
       "    </tr>\n",
       "    <tr>\n",
       "      <th>1195</th>\n",
       "      <td>Pleinweg,</td>\n",
       "      <td>Rotterdam</td>\n",
       "      <td>85 m²</td>\n",
       "      <td>furnished</td>\n",
       "      <td>Apartment</td>\n",
       "      <td>From 1 Jul 2024</td>\n",
       "      <td>month</td>\n",
       "      <td>1,300</td>\n",
       "      <td>https://kamernet.nl/en/for-rent/apartment-rott...</td>\n",
       "    </tr>\n",
       "    <tr>\n",
       "      <th>1196</th>\n",
       "      <td>Graaf Balderikstraat,</td>\n",
       "      <td>Rotterdam</td>\n",
       "      <td>28 m²</td>\n",
       "      <td>unfurnished</td>\n",
       "      <td>Room</td>\n",
       "      <td>From 1 Apr 2024</td>\n",
       "      <td>month incl. utilities</td>\n",
       "      <td>1,000</td>\n",
       "      <td>https://kamernet.nl/en/for-rent/room-rotterdam...</td>\n",
       "    </tr>\n",
       "    <tr>\n",
       "      <th>1197</th>\n",
       "      <td>Adelbert van Scharnlaan H,</td>\n",
       "      <td>Maastricht</td>\n",
       "      <td>10 m²</td>\n",
       "      <td>furnished</td>\n",
       "      <td>Room</td>\n",
       "      <td>From 15 Mar 2024</td>\n",
       "      <td>month incl. utilities</td>\n",
       "      <td>300</td>\n",
       "      <td>https://kamernet.nl/en/for-rent/room-maastrich...</td>\n",
       "    </tr>\n",
       "    <tr>\n",
       "      <th>1198</th>\n",
       "      <td>Koemarkt,</td>\n",
       "      <td>Purmerend</td>\n",
       "      <td>8 m²</td>\n",
       "      <td>furnished</td>\n",
       "      <td>Room</td>\n",
       "      <td>From 16 Feb 2024</td>\n",
       "      <td>month incl. utilities</td>\n",
       "      <td>600</td>\n",
       "      <td>https://kamernet.nl/en/for-rent/room-purmerend...</td>\n",
       "    </tr>\n",
       "    <tr>\n",
       "      <th>1199</th>\n",
       "      <td>Nicolaas Anslijnstraat,</td>\n",
       "      <td>Amsterdam</td>\n",
       "      <td>43 m²</td>\n",
       "      <td>furnished</td>\n",
       "      <td>Apartment</td>\n",
       "      <td>22 Mar - 7 Apr 2024</td>\n",
       "      <td>month incl. utilities</td>\n",
       "      <td>1,500</td>\n",
       "      <td>https://kamernet.nl/en/for-rent/apartment-amst...</td>\n",
       "    </tr>\n",
       "  </tbody>\n",
       "</table>\n",
       "<p>1200 rows × 9 columns</p>\n",
       "</div>"
      ],
      "text/plain": [
       "                          street        city   size   furnishing  \\\n",
       "0                 Galjoenstraat,     Zaandam  16 m²    furnished   \n",
       "1                    Stoofsteeg,       Gouda  58 m²  unfurnished   \n",
       "2                      Beeklaan,    Den Haag  17 m²    furnished   \n",
       "3                      Fuutlaan,   Eindhoven  16 m²  unfurnished   \n",
       "4                Meidoornsingel,   Rotterdam  20 m²    furnished   \n",
       "...                          ...         ...    ...          ...   \n",
       "1195                   Pleinweg,   Rotterdam  85 m²    furnished   \n",
       "1196       Graaf Balderikstraat,   Rotterdam  28 m²  unfurnished   \n",
       "1197  Adelbert van Scharnlaan H,  Maastricht  10 m²    furnished   \n",
       "1198                   Koemarkt,   Purmerend   8 m²    furnished   \n",
       "1199     Nicolaas Anslijnstraat,   Amsterdam  43 m²    furnished   \n",
       "\n",
       "                       type                     date              utilities  \\\n",
       "0     Roomin a studenthouse          From 3 Mar 2024                  month   \n",
       "1                 Apartment          From 1 Apr 2024                  month   \n",
       "2                    Studio  3 Mar 2024 - 1 Mar 2026                  month   \n",
       "3                      Room         From 16 Feb 2024  month incl. utilities   \n",
       "4                      Room  1 Sep 2024 - 1 Mar 2025  month incl. utilities   \n",
       "...                     ...                      ...                    ...   \n",
       "1195              Apartment          From 1 Jul 2024                  month   \n",
       "1196                   Room          From 1 Apr 2024  month incl. utilities   \n",
       "1197                   Room         From 15 Mar 2024  month incl. utilities   \n",
       "1198                   Room         From 16 Feb 2024  month incl. utilities   \n",
       "1199              Apartment      22 Mar - 7 Apr 2024  month incl. utilities   \n",
       "\n",
       "      price                                                url  \n",
       "0       800  https://kamernet.nl/en/for-rent/room-zaandam/g...  \n",
       "1     1,325  https://kamernet.nl/en/for-rent/apartment-goud...  \n",
       "2       725  https://kamernet.nl/en/for-rent/studio-den-haa...  \n",
       "3       295  https://kamernet.nl/en/for-rent/room-eindhoven...  \n",
       "4       925  https://kamernet.nl/en/for-rent/room-rotterdam...  \n",
       "...     ...                                                ...  \n",
       "1195  1,300  https://kamernet.nl/en/for-rent/apartment-rott...  \n",
       "1196  1,000  https://kamernet.nl/en/for-rent/room-rotterdam...  \n",
       "1197    300  https://kamernet.nl/en/for-rent/room-maastrich...  \n",
       "1198    600  https://kamernet.nl/en/for-rent/room-purmerend...  \n",
       "1199  1,500  https://kamernet.nl/en/for-rent/apartment-amst...  \n",
       "\n",
       "[1200 rows x 9 columns]"
      ]
     },
     "execution_count": 150,
     "metadata": {},
     "output_type": "execute_result"
    }
   ],
   "source": [
    "combined_df"
   ]
  }
 ],
 "metadata": {
  "kernelspec": {
   "display_name": "Python 3",
   "language": "python",
   "name": "python3"
  },
  "language_info": {
   "codemirror_mode": {
    "name": "ipython",
    "version": 3
   },
   "file_extension": ".py",
   "mimetype": "text/x-python",
   "name": "python",
   "nbconvert_exporter": "python",
   "pygments_lexer": "ipython3",
   "version": "3.12.0"
  }
 },
 "nbformat": 4,
 "nbformat_minor": 2
}
